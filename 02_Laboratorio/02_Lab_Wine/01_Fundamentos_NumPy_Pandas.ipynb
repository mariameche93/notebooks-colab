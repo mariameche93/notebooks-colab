{
  "nbformat": 4,
  "nbformat_minor": 0,
  "metadata": {
    "colab": {
      "provenance": [],
      "toc_visible": true
    },
    "kernelspec": {
      "name": "python3",
      "display_name": "Python 3"
    },
    "language_info": {
      "name": "python"
    }
  },
  "cells": [
    {
      "cell_type": "markdown",
      "source": [
        "# 01 – Fundamentos de NumPy y Pandas con Wine\n",
        "\n",
        "Objetivo general\n",
        "\n",
        "\n",
        "Analizar el dataset Wine (scikit‑learn) mediante operaciones básicas y avanzadas de NumPy y Pandas, generando los artefactos de datos necesarios para los siguientes notebooks (Visualización, ML clásico y DL), sin incluir visualizaciones en esta etapa.\n",
        "  \n"
      ],
      "metadata": {
        "id": "Z0xca89HJVLz"
      }
    },
    {
      "cell_type": "markdown",
      "source": [
        "# Sección 1 – Configuración del Entorno"
      ],
      "metadata": {
        "id": "bKszzNT5JKPY"
      }
    },
    {
      "cell_type": "markdown",
      "source": [
        "Propósito: Asegurar un entorno reproducible en Google Colab."
      ],
      "metadata": {
        "id": "kVcP07CTThLk"
      }
    },
    {
      "cell_type": "markdown",
      "source": [
        "**1.1Verificación de versión de Python**\n",
        "\n"
      ],
      "metadata": {
        "id": "onDXFix4kPIv"
      }
    },
    {
      "cell_type": "code",
      "source": [
        "import sys\n",
        "print(\"Versión de Python:\", sys.version)\n",
        "\n"
      ],
      "metadata": {
        "colab": {
          "base_uri": "https://localhost:8080/"
        },
        "id": "laW05Y0eISrc",
        "outputId": "fd6847b9-606b-4480-a788-27c358b7b61a"
      },
      "execution_count": null,
      "outputs": [
        {
          "output_type": "stream",
          "name": "stdout",
          "text": [
            "Versión de Python: 3.11.13 (main, Jun  4 2025, 08:57:29) [GCC 11.4.0]\n"
          ]
        }
      ]
    },
    {
      "cell_type": "markdown",
      "source": [
        "**1.2 Comprobación de GPU disponible (opcional para Deep Learning)**\n"
      ],
      "metadata": {
        "id": "3de-yM1GkbDw"
      }
    },
    {
      "cell_type": "code",
      "source": [
        "import tensorflow as tf\n",
        "print(\"GPU disponible (TensorFlow):\", tf.config.list_physical_devices('GPU'))\n"
      ],
      "metadata": {
        "colab": {
          "base_uri": "https://localhost:8080/"
        },
        "id": "b4ZCCBJdkgAW",
        "outputId": "fa7ea3c8-19b5-47b1-be72-05cd2ae10883"
      },
      "execution_count": null,
      "outputs": [
        {
          "output_type": "stream",
          "name": "stdout",
          "text": [
            "GPU disponible (TensorFlow): []\n"
          ]
        }
      ]
    },
    {
      "cell_type": "markdown",
      "source": [
        "**1.3 Instalación de librerías adicionales (solo si no están presentes)**\n",
        "\n"
      ],
      "metadata": {
        "id": "Z3rg3NxokjCM"
      }
    },
    {
      "cell_type": "code",
      "source": [
        "!pip install -q seaborn plotly\n"
      ],
      "metadata": {
        "id": "AkRLQ3x6kqmO"
      },
      "execution_count": null,
      "outputs": []
    },
    {
      "cell_type": "markdown",
      "source": [
        "**1.4 Importaciones para análisis y visualización**\n",
        "\n"
      ],
      "metadata": {
        "id": "NCwAuvGSkwzm"
      }
    },
    {
      "cell_type": "code",
      "source": [
        "import numpy as np                     # cálculo numérico\n",
        "import pandas as pd                    # manipulación de tablas\n",
        "import matplotlib.pyplot as plt        # gráficos básicos\n",
        "import seaborn as sns                  # gráficos estadísticos\n",
        "from sklearn.datasets import load_wine # dataset Wine integrado\n",
        "import warnings\n",
        "warnings.filterwarnings('ignore')      # suprimir advertencias innecesarias"
      ],
      "metadata": {
        "id": "ueYm2zhCkylS"
      },
      "execution_count": null,
      "outputs": []
    },
    {
      "cell_type": "markdown",
      "source": [
        "**1.5 Configuración de estilo global para gráficos**"
      ],
      "metadata": {
        "id": "7ys5W9dqk4EQ"
      }
    },
    {
      "cell_type": "code",
      "source": [
        "plt.style.use('default')               # estilo Matplotlib por defecto\n",
        "sns.set_palette(\"husl\")                # paleta de colores uniforme\n",
        "plt.rcParams['figure.figsize'] = (10,6)\n",
        "plt.rcParams['font.size']      = 12\n",
        "\n",
        "print(\"✅ Entorno configurado correctamente\")"
      ],
      "metadata": {
        "colab": {
          "base_uri": "https://localhost:8080/"
        },
        "id": "ybLEMYgJk5ei",
        "outputId": "db8f8c50-e21f-4a49-99ef-05be0e4b7960"
      },
      "execution_count": null,
      "outputs": [
        {
          "output_type": "stream",
          "name": "stdout",
          "text": [
            "✅ Entorno configurado correctamente\n"
          ]
        }
      ]
    },
    {
      "cell_type": "markdown",
      "source": [
        "# Sección 2 – Carga y Preparación del Dataset\n"
      ],
      "metadata": {
        "id": "cwdxu9JLk_OY"
      }
    },
    {
      "cell_type": "markdown",
      "source": [
        "Propósito: Obtener los datos en dos formatos complementarios.\n",
        "\n",
        "- En esta sección se importan los datos del conjunto *Wine* incluido en *scikit‑learn*, se almacenan en estructuras NumPy y en un *DataFrame* de **pandas**, y se realiza una primera inspección exploratoria.\n",
        "\n"
      ],
      "metadata": {
        "id": "QwiLOLHpliPM"
      }
    },
    {
      "cell_type": "code",
      "source": [
        "# 2.1 Carga en estructuras NumPy\n",
        "# ------------------------------\n",
        "from sklearn.datasets import load_wine\n",
        "\n",
        "wine = load_wine(as_frame=False)\n",
        "X_raw = wine.data       # Matriz de atributos (178 × 13)\n",
        "y      = wine.target    # Vector objetivo (178,)\n"
      ],
      "metadata": {
        "id": "UMYtSETqlj9H"
      },
      "execution_count": null,
      "outputs": []
    },
    {
      "cell_type": "markdown",
      "source": [
        "La celda anterior:\n",
        "\n",
        "- **Extrae** el *dataset* en formato “bunch” (diccionario enriquecido) usando `load_wine`.\n",
        "- **Asigna** la matriz de características a `X_raw` y el vector de clases a `y`.\n",
        "- Conserva la forma original (178 muestras, 13 atributos) para futuras comparaciones con otras estructuras de datos.\n"
      ],
      "metadata": {
        "id": "7VxpuwronF99"
      }
    },
    {
      "cell_type": "code",
      "source": [
        "# 2.2 Conversión a DataFrame de pandas\n",
        "# ------------------------------------\n",
        "import pandas as pd\n",
        "\n",
        "df = pd.DataFrame(X_raw, columns=wine.feature_names)  # crea DataFrame con nombres descriptivos\n",
        "df[\"target\"]       = y\n",
        "df[\"target_name\"]  = pd.Categorical.from_codes(y, wine.target_names)  # mapea índices a etiquetas\n"
      ],
      "metadata": {
        "id": "TZphnDrXnI0k"
      },
      "execution_count": null,
      "outputs": []
    },
    {
      "cell_type": "markdown",
      "source": [
        "En esta celda se **transforma** la representación NumPy en un *DataFrame* enriquecido con:\n",
        "\n",
        "1. **Columnas nominales** (`wine.feature_names`) que facilitan la interpretación.\n",
        "2. **Variable `target`** (numérica) para modelado supervisado.\n",
        "3. **Variable `target_name`** (categórica) que traduce los códigos enteros a etiquetas legibles (`class_0`, `class_1`, `class_2`).  \n",
        "Esta dualidad numérico‑categórica resulta útil para métricas de evaluación y visualización.\n"
      ],
      "metadata": {
        "id": "wyfExm9wnMii"
      }
    },
    {
      "cell_type": "code",
      "source": [
        "# 2.3 Inspección inicial de la estructura\n",
        "# ---------------------------------------\n",
        "print(\"Dimensiones del DataFrame:\", df.shape)\n",
        "display(df.head())  # muestra las primeras cinco filas\n"
      ],
      "metadata": {
        "colab": {
          "base_uri": "https://localhost:8080/",
          "height": 244
        },
        "id": "OqVvyOBbnQ2O",
        "outputId": "81b703bf-a7fc-4d15-b709-a72cfc9b497b"
      },
      "execution_count": null,
      "outputs": [
        {
          "output_type": "stream",
          "name": "stdout",
          "text": [
            "Dimensiones del DataFrame: (178, 15)\n"
          ]
        },
        {
          "output_type": "display_data",
          "data": {
            "text/plain": [
              "   alcohol  malic_acid   ash  alcalinity_of_ash  magnesium  total_phenols  \\\n",
              "0    14.23        1.71  2.43               15.6      127.0           2.80   \n",
              "1    13.20        1.78  2.14               11.2      100.0           2.65   \n",
              "2    13.16        2.36  2.67               18.6      101.0           2.80   \n",
              "3    14.37        1.95  2.50               16.8      113.0           3.85   \n",
              "4    13.24        2.59  2.87               21.0      118.0           2.80   \n",
              "\n",
              "   flavanoids  nonflavanoid_phenols  proanthocyanins  color_intensity   hue  \\\n",
              "0        3.06                  0.28             2.29             5.64  1.04   \n",
              "1        2.76                  0.26             1.28             4.38  1.05   \n",
              "2        3.24                  0.30             2.81             5.68  1.03   \n",
              "3        3.49                  0.24             2.18             7.80  0.86   \n",
              "4        2.69                  0.39             1.82             4.32  1.04   \n",
              "\n",
              "   od280/od315_of_diluted_wines  proline  target target_name  \n",
              "0                          3.92   1065.0       0     class_0  \n",
              "1                          3.40   1050.0       0     class_0  \n",
              "2                          3.17   1185.0       0     class_0  \n",
              "3                          3.45   1480.0       0     class_0  \n",
              "4                          2.93    735.0       0     class_0  "
            ],
            "text/html": [
              "\n",
              "  <div id=\"df-bd40c01a-f8b0-490f-bcb0-d8eaf202d991\" class=\"colab-df-container\">\n",
              "    <div>\n",
              "<style scoped>\n",
              "    .dataframe tbody tr th:only-of-type {\n",
              "        vertical-align: middle;\n",
              "    }\n",
              "\n",
              "    .dataframe tbody tr th {\n",
              "        vertical-align: top;\n",
              "    }\n",
              "\n",
              "    .dataframe thead th {\n",
              "        text-align: right;\n",
              "    }\n",
              "</style>\n",
              "<table border=\"1\" class=\"dataframe\">\n",
              "  <thead>\n",
              "    <tr style=\"text-align: right;\">\n",
              "      <th></th>\n",
              "      <th>alcohol</th>\n",
              "      <th>malic_acid</th>\n",
              "      <th>ash</th>\n",
              "      <th>alcalinity_of_ash</th>\n",
              "      <th>magnesium</th>\n",
              "      <th>total_phenols</th>\n",
              "      <th>flavanoids</th>\n",
              "      <th>nonflavanoid_phenols</th>\n",
              "      <th>proanthocyanins</th>\n",
              "      <th>color_intensity</th>\n",
              "      <th>hue</th>\n",
              "      <th>od280/od315_of_diluted_wines</th>\n",
              "      <th>proline</th>\n",
              "      <th>target</th>\n",
              "      <th>target_name</th>\n",
              "    </tr>\n",
              "  </thead>\n",
              "  <tbody>\n",
              "    <tr>\n",
              "      <th>0</th>\n",
              "      <td>14.23</td>\n",
              "      <td>1.71</td>\n",
              "      <td>2.43</td>\n",
              "      <td>15.6</td>\n",
              "      <td>127.0</td>\n",
              "      <td>2.80</td>\n",
              "      <td>3.06</td>\n",
              "      <td>0.28</td>\n",
              "      <td>2.29</td>\n",
              "      <td>5.64</td>\n",
              "      <td>1.04</td>\n",
              "      <td>3.92</td>\n",
              "      <td>1065.0</td>\n",
              "      <td>0</td>\n",
              "      <td>class_0</td>\n",
              "    </tr>\n",
              "    <tr>\n",
              "      <th>1</th>\n",
              "      <td>13.20</td>\n",
              "      <td>1.78</td>\n",
              "      <td>2.14</td>\n",
              "      <td>11.2</td>\n",
              "      <td>100.0</td>\n",
              "      <td>2.65</td>\n",
              "      <td>2.76</td>\n",
              "      <td>0.26</td>\n",
              "      <td>1.28</td>\n",
              "      <td>4.38</td>\n",
              "      <td>1.05</td>\n",
              "      <td>3.40</td>\n",
              "      <td>1050.0</td>\n",
              "      <td>0</td>\n",
              "      <td>class_0</td>\n",
              "    </tr>\n",
              "    <tr>\n",
              "      <th>2</th>\n",
              "      <td>13.16</td>\n",
              "      <td>2.36</td>\n",
              "      <td>2.67</td>\n",
              "      <td>18.6</td>\n",
              "      <td>101.0</td>\n",
              "      <td>2.80</td>\n",
              "      <td>3.24</td>\n",
              "      <td>0.30</td>\n",
              "      <td>2.81</td>\n",
              "      <td>5.68</td>\n",
              "      <td>1.03</td>\n",
              "      <td>3.17</td>\n",
              "      <td>1185.0</td>\n",
              "      <td>0</td>\n",
              "      <td>class_0</td>\n",
              "    </tr>\n",
              "    <tr>\n",
              "      <th>3</th>\n",
              "      <td>14.37</td>\n",
              "      <td>1.95</td>\n",
              "      <td>2.50</td>\n",
              "      <td>16.8</td>\n",
              "      <td>113.0</td>\n",
              "      <td>3.85</td>\n",
              "      <td>3.49</td>\n",
              "      <td>0.24</td>\n",
              "      <td>2.18</td>\n",
              "      <td>7.80</td>\n",
              "      <td>0.86</td>\n",
              "      <td>3.45</td>\n",
              "      <td>1480.0</td>\n",
              "      <td>0</td>\n",
              "      <td>class_0</td>\n",
              "    </tr>\n",
              "    <tr>\n",
              "      <th>4</th>\n",
              "      <td>13.24</td>\n",
              "      <td>2.59</td>\n",
              "      <td>2.87</td>\n",
              "      <td>21.0</td>\n",
              "      <td>118.0</td>\n",
              "      <td>2.80</td>\n",
              "      <td>2.69</td>\n",
              "      <td>0.39</td>\n",
              "      <td>1.82</td>\n",
              "      <td>4.32</td>\n",
              "      <td>1.04</td>\n",
              "      <td>2.93</td>\n",
              "      <td>735.0</td>\n",
              "      <td>0</td>\n",
              "      <td>class_0</td>\n",
              "    </tr>\n",
              "  </tbody>\n",
              "</table>\n",
              "</div>\n",
              "    <div class=\"colab-df-buttons\">\n",
              "\n",
              "  <div class=\"colab-df-container\">\n",
              "    <button class=\"colab-df-convert\" onclick=\"convertToInteractive('df-bd40c01a-f8b0-490f-bcb0-d8eaf202d991')\"\n",
              "            title=\"Convert this dataframe to an interactive table.\"\n",
              "            style=\"display:none;\">\n",
              "\n",
              "  <svg xmlns=\"http://www.w3.org/2000/svg\" height=\"24px\" viewBox=\"0 -960 960 960\">\n",
              "    <path d=\"M120-120v-720h720v720H120Zm60-500h600v-160H180v160Zm220 220h160v-160H400v160Zm0 220h160v-160H400v160ZM180-400h160v-160H180v160Zm440 0h160v-160H620v160ZM180-180h160v-160H180v160Zm440 0h160v-160H620v160Z\"/>\n",
              "  </svg>\n",
              "    </button>\n",
              "\n",
              "  <style>\n",
              "    .colab-df-container {\n",
              "      display:flex;\n",
              "      gap: 12px;\n",
              "    }\n",
              "\n",
              "    .colab-df-convert {\n",
              "      background-color: #E8F0FE;\n",
              "      border: none;\n",
              "      border-radius: 50%;\n",
              "      cursor: pointer;\n",
              "      display: none;\n",
              "      fill: #1967D2;\n",
              "      height: 32px;\n",
              "      padding: 0 0 0 0;\n",
              "      width: 32px;\n",
              "    }\n",
              "\n",
              "    .colab-df-convert:hover {\n",
              "      background-color: #E2EBFA;\n",
              "      box-shadow: 0px 1px 2px rgba(60, 64, 67, 0.3), 0px 1px 3px 1px rgba(60, 64, 67, 0.15);\n",
              "      fill: #174EA6;\n",
              "    }\n",
              "\n",
              "    .colab-df-buttons div {\n",
              "      margin-bottom: 4px;\n",
              "    }\n",
              "\n",
              "    [theme=dark] .colab-df-convert {\n",
              "      background-color: #3B4455;\n",
              "      fill: #D2E3FC;\n",
              "    }\n",
              "\n",
              "    [theme=dark] .colab-df-convert:hover {\n",
              "      background-color: #434B5C;\n",
              "      box-shadow: 0px 1px 3px 1px rgba(0, 0, 0, 0.15);\n",
              "      filter: drop-shadow(0px 1px 2px rgba(0, 0, 0, 0.3));\n",
              "      fill: #FFFFFF;\n",
              "    }\n",
              "  </style>\n",
              "\n",
              "    <script>\n",
              "      const buttonEl =\n",
              "        document.querySelector('#df-bd40c01a-f8b0-490f-bcb0-d8eaf202d991 button.colab-df-convert');\n",
              "      buttonEl.style.display =\n",
              "        google.colab.kernel.accessAllowed ? 'block' : 'none';\n",
              "\n",
              "      async function convertToInteractive(key) {\n",
              "        const element = document.querySelector('#df-bd40c01a-f8b0-490f-bcb0-d8eaf202d991');\n",
              "        const dataTable =\n",
              "          await google.colab.kernel.invokeFunction('convertToInteractive',\n",
              "                                                    [key], {});\n",
              "        if (!dataTable) return;\n",
              "\n",
              "        const docLinkHtml = 'Like what you see? Visit the ' +\n",
              "          '<a target=\"_blank\" href=https://colab.research.google.com/notebooks/data_table.ipynb>data table notebook</a>'\n",
              "          + ' to learn more about interactive tables.';\n",
              "        element.innerHTML = '';\n",
              "        dataTable['output_type'] = 'display_data';\n",
              "        await google.colab.output.renderOutput(dataTable, element);\n",
              "        const docLink = document.createElement('div');\n",
              "        docLink.innerHTML = docLinkHtml;\n",
              "        element.appendChild(docLink);\n",
              "      }\n",
              "    </script>\n",
              "  </div>\n",
              "\n",
              "\n",
              "    <div id=\"df-a34690e7-7a11-4225-a52e-7788baf7e578\">\n",
              "      <button class=\"colab-df-quickchart\" onclick=\"quickchart('df-a34690e7-7a11-4225-a52e-7788baf7e578')\"\n",
              "                title=\"Suggest charts\"\n",
              "                style=\"display:none;\">\n",
              "\n",
              "<svg xmlns=\"http://www.w3.org/2000/svg\" height=\"24px\"viewBox=\"0 0 24 24\"\n",
              "     width=\"24px\">\n",
              "    <g>\n",
              "        <path d=\"M19 3H5c-1.1 0-2 .9-2 2v14c0 1.1.9 2 2 2h14c1.1 0 2-.9 2-2V5c0-1.1-.9-2-2-2zM9 17H7v-7h2v7zm4 0h-2V7h2v10zm4 0h-2v-4h2v4z\"/>\n",
              "    </g>\n",
              "</svg>\n",
              "      </button>\n",
              "\n",
              "<style>\n",
              "  .colab-df-quickchart {\n",
              "      --bg-color: #E8F0FE;\n",
              "      --fill-color: #1967D2;\n",
              "      --hover-bg-color: #E2EBFA;\n",
              "      --hover-fill-color: #174EA6;\n",
              "      --disabled-fill-color: #AAA;\n",
              "      --disabled-bg-color: #DDD;\n",
              "  }\n",
              "\n",
              "  [theme=dark] .colab-df-quickchart {\n",
              "      --bg-color: #3B4455;\n",
              "      --fill-color: #D2E3FC;\n",
              "      --hover-bg-color: #434B5C;\n",
              "      --hover-fill-color: #FFFFFF;\n",
              "      --disabled-bg-color: #3B4455;\n",
              "      --disabled-fill-color: #666;\n",
              "  }\n",
              "\n",
              "  .colab-df-quickchart {\n",
              "    background-color: var(--bg-color);\n",
              "    border: none;\n",
              "    border-radius: 50%;\n",
              "    cursor: pointer;\n",
              "    display: none;\n",
              "    fill: var(--fill-color);\n",
              "    height: 32px;\n",
              "    padding: 0;\n",
              "    width: 32px;\n",
              "  }\n",
              "\n",
              "  .colab-df-quickchart:hover {\n",
              "    background-color: var(--hover-bg-color);\n",
              "    box-shadow: 0 1px 2px rgba(60, 64, 67, 0.3), 0 1px 3px 1px rgba(60, 64, 67, 0.15);\n",
              "    fill: var(--button-hover-fill-color);\n",
              "  }\n",
              "\n",
              "  .colab-df-quickchart-complete:disabled,\n",
              "  .colab-df-quickchart-complete:disabled:hover {\n",
              "    background-color: var(--disabled-bg-color);\n",
              "    fill: var(--disabled-fill-color);\n",
              "    box-shadow: none;\n",
              "  }\n",
              "\n",
              "  .colab-df-spinner {\n",
              "    border: 2px solid var(--fill-color);\n",
              "    border-color: transparent;\n",
              "    border-bottom-color: var(--fill-color);\n",
              "    animation:\n",
              "      spin 1s steps(1) infinite;\n",
              "  }\n",
              "\n",
              "  @keyframes spin {\n",
              "    0% {\n",
              "      border-color: transparent;\n",
              "      border-bottom-color: var(--fill-color);\n",
              "      border-left-color: var(--fill-color);\n",
              "    }\n",
              "    20% {\n",
              "      border-color: transparent;\n",
              "      border-left-color: var(--fill-color);\n",
              "      border-top-color: var(--fill-color);\n",
              "    }\n",
              "    30% {\n",
              "      border-color: transparent;\n",
              "      border-left-color: var(--fill-color);\n",
              "      border-top-color: var(--fill-color);\n",
              "      border-right-color: var(--fill-color);\n",
              "    }\n",
              "    40% {\n",
              "      border-color: transparent;\n",
              "      border-right-color: var(--fill-color);\n",
              "      border-top-color: var(--fill-color);\n",
              "    }\n",
              "    60% {\n",
              "      border-color: transparent;\n",
              "      border-right-color: var(--fill-color);\n",
              "    }\n",
              "    80% {\n",
              "      border-color: transparent;\n",
              "      border-right-color: var(--fill-color);\n",
              "      border-bottom-color: var(--fill-color);\n",
              "    }\n",
              "    90% {\n",
              "      border-color: transparent;\n",
              "      border-bottom-color: var(--fill-color);\n",
              "    }\n",
              "  }\n",
              "</style>\n",
              "\n",
              "      <script>\n",
              "        async function quickchart(key) {\n",
              "          const quickchartButtonEl =\n",
              "            document.querySelector('#' + key + ' button');\n",
              "          quickchartButtonEl.disabled = true;  // To prevent multiple clicks.\n",
              "          quickchartButtonEl.classList.add('colab-df-spinner');\n",
              "          try {\n",
              "            const charts = await google.colab.kernel.invokeFunction(\n",
              "                'suggestCharts', [key], {});\n",
              "          } catch (error) {\n",
              "            console.error('Error during call to suggestCharts:', error);\n",
              "          }\n",
              "          quickchartButtonEl.classList.remove('colab-df-spinner');\n",
              "          quickchartButtonEl.classList.add('colab-df-quickchart-complete');\n",
              "        }\n",
              "        (() => {\n",
              "          let quickchartButtonEl =\n",
              "            document.querySelector('#df-a34690e7-7a11-4225-a52e-7788baf7e578 button');\n",
              "          quickchartButtonEl.style.display =\n",
              "            google.colab.kernel.accessAllowed ? 'block' : 'none';\n",
              "        })();\n",
              "      </script>\n",
              "    </div>\n",
              "\n",
              "    </div>\n",
              "  </div>\n"
            ],
            "application/vnd.google.colaboratory.intrinsic+json": {
              "type": "dataframe",
              "summary": "{\n  \"name\": \"display(df\",\n  \"rows\": 5,\n  \"fields\": [\n    {\n      \"column\": \"alcohol\",\n      \"properties\": {\n        \"dtype\": \"number\",\n        \"std\": 0.6051859218455101,\n        \"min\": 13.16,\n        \"max\": 14.37,\n        \"num_unique_values\": 5,\n        \"samples\": [\n          13.2,\n          13.24,\n          13.16\n        ],\n        \"semantic_type\": \"\",\n        \"description\": \"\"\n      }\n    },\n    {\n      \"column\": \"malic_acid\",\n      \"properties\": {\n        \"dtype\": \"number\",\n        \"std\": 0.38153636786026035,\n        \"min\": 1.71,\n        \"max\": 2.59,\n        \"num_unique_values\": 5,\n        \"samples\": [\n          1.78,\n          2.59,\n          2.36\n        ],\n        \"semantic_type\": \"\",\n        \"description\": \"\"\n      }\n    },\n    {\n      \"column\": \"ash\",\n      \"properties\": {\n        \"dtype\": \"number\",\n        \"std\": 0.272891919997643,\n        \"min\": 2.14,\n        \"max\": 2.87,\n        \"num_unique_values\": 5,\n        \"samples\": [\n          2.14,\n          2.87,\n          2.67\n        ],\n        \"semantic_type\": \"\",\n        \"description\": \"\"\n      }\n    },\n    {\n      \"column\": \"alcalinity_of_ash\",\n      \"properties\": {\n        \"dtype\": \"number\",\n        \"std\": 3.6589616013289894,\n        \"min\": 11.2,\n        \"max\": 21.0,\n        \"num_unique_values\": 5,\n        \"samples\": [\n          11.2,\n          21.0,\n          18.6\n        ],\n        \"semantic_type\": \"\",\n        \"description\": \"\"\n      }\n    },\n    {\n      \"column\": \"magnesium\",\n      \"properties\": {\n        \"dtype\": \"number\",\n        \"std\": 11.476062042355817,\n        \"min\": 100.0,\n        \"max\": 127.0,\n        \"num_unique_values\": 5,\n        \"samples\": [\n          100.0,\n          118.0,\n          101.0\n        ],\n        \"semantic_type\": \"\",\n        \"description\": \"\"\n      }\n    },\n    {\n      \"column\": \"total_phenols\",\n      \"properties\": {\n        \"dtype\": \"number\",\n        \"std\": 0.49066281701388387,\n        \"min\": 2.65,\n        \"max\": 3.85,\n        \"num_unique_values\": 3,\n        \"samples\": [\n          2.8,\n          2.65,\n          3.85\n        ],\n        \"semantic_type\": \"\",\n        \"description\": \"\"\n      }\n    },\n    {\n      \"column\": \"flavanoids\",\n      \"properties\": {\n        \"dtype\": \"number\",\n        \"std\": 0.3329714702493295,\n        \"min\": 2.69,\n        \"max\": 3.49,\n        \"num_unique_values\": 5,\n        \"samples\": [\n          2.76,\n          2.69,\n          3.24\n        ],\n        \"semantic_type\": \"\",\n        \"description\": \"\"\n      }\n    },\n    {\n      \"column\": \"nonflavanoid_phenols\",\n      \"properties\": {\n        \"dtype\": \"number\",\n        \"std\": 0.05813776741499454,\n        \"min\": 0.24,\n        \"max\": 0.39,\n        \"num_unique_values\": 5,\n        \"samples\": [\n          0.26,\n          0.39,\n          0.3\n        ],\n        \"semantic_type\": \"\",\n        \"description\": \"\"\n      }\n    },\n    {\n      \"column\": \"proanthocyanins\",\n      \"properties\": {\n        \"dtype\": \"number\",\n        \"std\": 0.5688848741177779,\n        \"min\": 1.28,\n        \"max\": 2.81,\n        \"num_unique_values\": 5,\n        \"samples\": [\n          1.28,\n          1.82,\n          2.81\n        ],\n        \"semantic_type\": \"\",\n        \"description\": \"\"\n      }\n    },\n    {\n      \"column\": \"color_intensity\",\n      \"properties\": {\n        \"dtype\": \"number\",\n        \"std\": 1.4114106418757086,\n        \"min\": 4.32,\n        \"max\": 7.8,\n        \"num_unique_values\": 5,\n        \"samples\": [\n          4.38,\n          4.32,\n          5.68\n        ],\n        \"semantic_type\": \"\",\n        \"description\": \"\"\n      }\n    },\n    {\n      \"column\": \"hue\",\n      \"properties\": {\n        \"dtype\": \"number\",\n        \"std\": 0.08080841540334771,\n        \"min\": 0.86,\n        \"max\": 1.05,\n        \"num_unique_values\": 4,\n        \"samples\": [\n          1.05,\n          0.86,\n          1.04\n        ],\n        \"semantic_type\": \"\",\n        \"description\": \"\"\n      }\n    },\n    {\n      \"column\": \"od280/od315_of_diluted_wines\",\n      \"properties\": {\n        \"dtype\": \"number\",\n        \"std\": 0.36855121760753956,\n        \"min\": 2.93,\n        \"max\": 3.92,\n        \"num_unique_values\": 5,\n        \"samples\": [\n          3.4,\n          2.93,\n          3.17\n        ],\n        \"semantic_type\": \"\",\n        \"description\": \"\"\n      }\n    },\n    {\n      \"column\": \"proline\",\n      \"properties\": {\n        \"dtype\": \"number\",\n        \"std\": 268.5749429861244,\n        \"min\": 735.0,\n        \"max\": 1480.0,\n        \"num_unique_values\": 5,\n        \"samples\": [\n          1050.0,\n          735.0,\n          1185.0\n        ],\n        \"semantic_type\": \"\",\n        \"description\": \"\"\n      }\n    },\n    {\n      \"column\": \"target\",\n      \"properties\": {\n        \"dtype\": \"number\",\n        \"std\": 0,\n        \"min\": 0,\n        \"max\": 0,\n        \"num_unique_values\": 1,\n        \"samples\": [\n          0\n        ],\n        \"semantic_type\": \"\",\n        \"description\": \"\"\n      }\n    },\n    {\n      \"column\": \"target_name\",\n      \"properties\": {\n        \"dtype\": \"category\",\n        \"num_unique_values\": 1,\n        \"samples\": [\n          \"class_0\"\n        ],\n        \"semantic_type\": \"\",\n        \"description\": \"\"\n      }\n    }\n  ]\n}"
            }
          },
          "metadata": {}
        }
      ]
    },
    {
      "cell_type": "markdown",
      "source": [
        "#### Hallazgos preliminares  \n",
        "\n",
        "- **Dimensiones**: (178, 15) — 178 registros y 15 columnas (13 atributos fisicoquímicos + `target` + `target_name`).  \n",
        "- **Completitud**: no se detectan valores nulos en ninguna columna.  \n",
        "- **Escalas heterogéneas**: variables como `proline` presentan rangos de magnitud considerablemente superiores a los de `nonflavanoid_phenols`, lo que anticipa la necesidad de normalización o estandarización en etapas posteriores.  \n",
        "- **Representatividad de clases**: `class_1` ≈ 40 %, `class_0` ≈ 33 % y `class_2` ≈ 27 %; el leve desbalance aconseja emplear validación cruzada estratificada.  \n"
      ],
      "metadata": {
        "id": "kNqHkM9RnRe0"
      }
    },
    {
      "cell_type": "markdown",
      "source": [
        "# Sección 3 – Inspección Estadística con Pandas\n"
      ],
      "metadata": {
        "id": "SlKT2wPlsgA8"
      }
    },
    {
      "cell_type": "markdown",
      "source": [
        "*Propósito general: evaluar la calidad del *dataset*, caracterizar la distribución de las variables y detectar valores atípicos antes de cualquier modelado.*\n"
      ],
      "metadata": {
        "id": "8qDioigJsuC7"
      }
    },
    {
      "cell_type": "code",
      "source": [
        "# 3.1 Tipos de datos y valores nulos\n",
        "print(\"Tipos de datos:\\n\", df.dtypes, \"\\n\")\n",
        "print(\"Valores nulos por columna:\\n\", df.isnull().sum(), \"\\n\")\n"
      ],
      "metadata": {
        "colab": {
          "base_uri": "https://localhost:8080/"
        },
        "id": "8G1Puw2Ospuf",
        "outputId": "ef49192a-bd88-43da-923e-f0db75e90a6d"
      },
      "execution_count": null,
      "outputs": [
        {
          "output_type": "stream",
          "name": "stdout",
          "text": [
            "Tipos de datos:\n",
            " alcohol                          float64\n",
            "malic_acid                       float64\n",
            "ash                              float64\n",
            "alcalinity_of_ash                float64\n",
            "magnesium                        float64\n",
            "total_phenols                    float64\n",
            "flavanoids                       float64\n",
            "nonflavanoid_phenols             float64\n",
            "proanthocyanins                  float64\n",
            "color_intensity                  float64\n",
            "hue                              float64\n",
            "od280/od315_of_diluted_wines     float64\n",
            "proline                          float64\n",
            "target                             int64\n",
            "target_name                     category\n",
            "dtype: object \n",
            "\n",
            "Valores nulos por columna:\n",
            " alcohol                         0\n",
            "malic_acid                      0\n",
            "ash                             0\n",
            "alcalinity_of_ash               0\n",
            "magnesium                       0\n",
            "total_phenols                   0\n",
            "flavanoids                      0\n",
            "nonflavanoid_phenols            0\n",
            "proanthocyanins                 0\n",
            "color_intensity                 0\n",
            "hue                             0\n",
            "od280/od315_of_diluted_wines    0\n",
            "proline                         0\n",
            "target                          0\n",
            "target_name                     0\n",
            "dtype: int64 \n",
            "\n"
          ]
        }
      ]
    },
    {
      "cell_type": "markdown",
      "source": [
        "### 3.1 Tipos de datos y valores nulos  \n",
        "- **Tipos de datos**  \n",
        "  - Se identificaron **13 columnas `float64`** (atributos fisicoquímicos).  \n",
        "  - Se registró **1 columna `int64`** correspondiente a la variable objetivo `target`.  \n",
        "  - Se incluyó **1 columna categórica** (`target_name`) para la etiqueta legible de clase.  \n",
        "- **Valores nulos**  \n",
        "  - No se detectaron valores faltantes; las **15 columnas** presentaron **0 % de `NaN`**.  \n",
        "- **Implicación**  \n",
        "  - La completitud del conjunto de datos eliminó la necesidad de aplicar técnicas de imputación.  \n"
      ],
      "metadata": {
        "id": "V3XbIaMeub6t"
      }
    },
    {
      "cell_type": "code",
      "source": [
        "# 3.2 Estadísticas descriptivas + dispersión y forma\n",
        "desc = df.describe().T\n",
        "desc['coef_var'] = desc['std'] / desc['mean']\n",
        "# Exclude non-numeric columns for skew and kurtosis calculations\n",
        "numeric_cols = df.select_dtypes(include=np.number).columns\n",
        "desc['skew']     = df[numeric_cols].skew()\n",
        "desc['kurtosis'] = df[numeric_cols].kurtosis()\n",
        "print(\"Estadísticas descriptivas y forma de distribución:\")\n",
        "display(desc)\n",
        "\n"
      ],
      "metadata": {
        "colab": {
          "base_uri": "https://localhost:8080/",
          "height": 506
        },
        "id": "muvcO7u1uSyd",
        "outputId": "22c7b84e-0148-4b1d-b5b7-5a75d6ec9423"
      },
      "execution_count": null,
      "outputs": [
        {
          "output_type": "stream",
          "name": "stdout",
          "text": [
            "Estadísticas descriptivas y forma de distribución:\n"
          ]
        },
        {
          "output_type": "display_data",
          "data": {
            "text/plain": [
              "                              count        mean         std     min       25%  \\\n",
              "alcohol                       178.0   13.000618    0.811827   11.03   12.3625   \n",
              "malic_acid                    178.0    2.336348    1.117146    0.74    1.6025   \n",
              "ash                           178.0    2.366517    0.274344    1.36    2.2100   \n",
              "alcalinity_of_ash             178.0   19.494944    3.339564   10.60   17.2000   \n",
              "magnesium                     178.0   99.741573   14.282484   70.00   88.0000   \n",
              "total_phenols                 178.0    2.295112    0.625851    0.98    1.7425   \n",
              "flavanoids                    178.0    2.029270    0.998859    0.34    1.2050   \n",
              "nonflavanoid_phenols          178.0    0.361854    0.124453    0.13    0.2700   \n",
              "proanthocyanins               178.0    1.590899    0.572359    0.41    1.2500   \n",
              "color_intensity               178.0    5.058090    2.318286    1.28    3.2200   \n",
              "hue                           178.0    0.957449    0.228572    0.48    0.7825   \n",
              "od280/od315_of_diluted_wines  178.0    2.611685    0.709990    1.27    1.9375   \n",
              "proline                       178.0  746.893258  314.907474  278.00  500.5000   \n",
              "target                        178.0    0.938202    0.775035    0.00    0.0000   \n",
              "\n",
              "                                  50%       75%      max  coef_var      skew  \\\n",
              "alcohol                        13.050   13.6775    14.83  0.062445 -0.051482   \n",
              "malic_acid                      1.865    3.0825     5.80  0.478159  1.039651   \n",
              "ash                             2.360    2.5575     3.23  0.115927 -0.176699   \n",
              "alcalinity_of_ash              19.500   21.5000    30.00  0.171304  0.213047   \n",
              "magnesium                      98.000  107.0000   162.00  0.143195  1.098191   \n",
              "total_phenols                   2.355    2.8000     3.88  0.272689  0.086639   \n",
              "flavanoids                      2.135    2.8750     5.08  0.492226  0.025344   \n",
              "nonflavanoid_phenols            0.340    0.4375     0.66  0.343933  0.450151   \n",
              "proanthocyanins                 1.555    1.9500     3.58  0.359771  0.517137   \n",
              "color_intensity                 4.690    6.2000    13.00  0.458332  0.868585   \n",
              "hue                             0.965    1.1200     1.71  0.238730  0.021091   \n",
              "od280/od315_of_diluted_wines    2.780    3.1700     4.00  0.271851 -0.307285   \n",
              "proline                       673.500  985.0000  1680.00  0.421623  0.767822   \n",
              "target                          1.000    2.0000     2.00  0.826085  0.107431   \n",
              "\n",
              "                              kurtosis  \n",
              "alcohol                      -0.852500  \n",
              "malic_acid                    0.299207  \n",
              "ash                           1.143978  \n",
              "alcalinity_of_ash             0.487942  \n",
              "magnesium                     2.104991  \n",
              "total_phenols                -0.835627  \n",
              "flavanoids                   -0.880382  \n",
              "nonflavanoid_phenols         -0.637191  \n",
              "proanthocyanins               0.554649  \n",
              "color_intensity               0.381522  \n",
              "hue                          -0.344096  \n",
              "od280/od315_of_diluted_wines -1.086435  \n",
              "proline                      -0.248403  \n",
              "target                       -1.322787  "
            ],
            "text/html": [
              "\n",
              "  <div id=\"df-f1dc3042-c20e-41d9-ba63-f5af160445d3\" class=\"colab-df-container\">\n",
              "    <div>\n",
              "<style scoped>\n",
              "    .dataframe tbody tr th:only-of-type {\n",
              "        vertical-align: middle;\n",
              "    }\n",
              "\n",
              "    .dataframe tbody tr th {\n",
              "        vertical-align: top;\n",
              "    }\n",
              "\n",
              "    .dataframe thead th {\n",
              "        text-align: right;\n",
              "    }\n",
              "</style>\n",
              "<table border=\"1\" class=\"dataframe\">\n",
              "  <thead>\n",
              "    <tr style=\"text-align: right;\">\n",
              "      <th></th>\n",
              "      <th>count</th>\n",
              "      <th>mean</th>\n",
              "      <th>std</th>\n",
              "      <th>min</th>\n",
              "      <th>25%</th>\n",
              "      <th>50%</th>\n",
              "      <th>75%</th>\n",
              "      <th>max</th>\n",
              "      <th>coef_var</th>\n",
              "      <th>skew</th>\n",
              "      <th>kurtosis</th>\n",
              "    </tr>\n",
              "  </thead>\n",
              "  <tbody>\n",
              "    <tr>\n",
              "      <th>alcohol</th>\n",
              "      <td>178.0</td>\n",
              "      <td>13.000618</td>\n",
              "      <td>0.811827</td>\n",
              "      <td>11.03</td>\n",
              "      <td>12.3625</td>\n",
              "      <td>13.050</td>\n",
              "      <td>13.6775</td>\n",
              "      <td>14.83</td>\n",
              "      <td>0.062445</td>\n",
              "      <td>-0.051482</td>\n",
              "      <td>-0.852500</td>\n",
              "    </tr>\n",
              "    <tr>\n",
              "      <th>malic_acid</th>\n",
              "      <td>178.0</td>\n",
              "      <td>2.336348</td>\n",
              "      <td>1.117146</td>\n",
              "      <td>0.74</td>\n",
              "      <td>1.6025</td>\n",
              "      <td>1.865</td>\n",
              "      <td>3.0825</td>\n",
              "      <td>5.80</td>\n",
              "      <td>0.478159</td>\n",
              "      <td>1.039651</td>\n",
              "      <td>0.299207</td>\n",
              "    </tr>\n",
              "    <tr>\n",
              "      <th>ash</th>\n",
              "      <td>178.0</td>\n",
              "      <td>2.366517</td>\n",
              "      <td>0.274344</td>\n",
              "      <td>1.36</td>\n",
              "      <td>2.2100</td>\n",
              "      <td>2.360</td>\n",
              "      <td>2.5575</td>\n",
              "      <td>3.23</td>\n",
              "      <td>0.115927</td>\n",
              "      <td>-0.176699</td>\n",
              "      <td>1.143978</td>\n",
              "    </tr>\n",
              "    <tr>\n",
              "      <th>alcalinity_of_ash</th>\n",
              "      <td>178.0</td>\n",
              "      <td>19.494944</td>\n",
              "      <td>3.339564</td>\n",
              "      <td>10.60</td>\n",
              "      <td>17.2000</td>\n",
              "      <td>19.500</td>\n",
              "      <td>21.5000</td>\n",
              "      <td>30.00</td>\n",
              "      <td>0.171304</td>\n",
              "      <td>0.213047</td>\n",
              "      <td>0.487942</td>\n",
              "    </tr>\n",
              "    <tr>\n",
              "      <th>magnesium</th>\n",
              "      <td>178.0</td>\n",
              "      <td>99.741573</td>\n",
              "      <td>14.282484</td>\n",
              "      <td>70.00</td>\n",
              "      <td>88.0000</td>\n",
              "      <td>98.000</td>\n",
              "      <td>107.0000</td>\n",
              "      <td>162.00</td>\n",
              "      <td>0.143195</td>\n",
              "      <td>1.098191</td>\n",
              "      <td>2.104991</td>\n",
              "    </tr>\n",
              "    <tr>\n",
              "      <th>total_phenols</th>\n",
              "      <td>178.0</td>\n",
              "      <td>2.295112</td>\n",
              "      <td>0.625851</td>\n",
              "      <td>0.98</td>\n",
              "      <td>1.7425</td>\n",
              "      <td>2.355</td>\n",
              "      <td>2.8000</td>\n",
              "      <td>3.88</td>\n",
              "      <td>0.272689</td>\n",
              "      <td>0.086639</td>\n",
              "      <td>-0.835627</td>\n",
              "    </tr>\n",
              "    <tr>\n",
              "      <th>flavanoids</th>\n",
              "      <td>178.0</td>\n",
              "      <td>2.029270</td>\n",
              "      <td>0.998859</td>\n",
              "      <td>0.34</td>\n",
              "      <td>1.2050</td>\n",
              "      <td>2.135</td>\n",
              "      <td>2.8750</td>\n",
              "      <td>5.08</td>\n",
              "      <td>0.492226</td>\n",
              "      <td>0.025344</td>\n",
              "      <td>-0.880382</td>\n",
              "    </tr>\n",
              "    <tr>\n",
              "      <th>nonflavanoid_phenols</th>\n",
              "      <td>178.0</td>\n",
              "      <td>0.361854</td>\n",
              "      <td>0.124453</td>\n",
              "      <td>0.13</td>\n",
              "      <td>0.2700</td>\n",
              "      <td>0.340</td>\n",
              "      <td>0.4375</td>\n",
              "      <td>0.66</td>\n",
              "      <td>0.343933</td>\n",
              "      <td>0.450151</td>\n",
              "      <td>-0.637191</td>\n",
              "    </tr>\n",
              "    <tr>\n",
              "      <th>proanthocyanins</th>\n",
              "      <td>178.0</td>\n",
              "      <td>1.590899</td>\n",
              "      <td>0.572359</td>\n",
              "      <td>0.41</td>\n",
              "      <td>1.2500</td>\n",
              "      <td>1.555</td>\n",
              "      <td>1.9500</td>\n",
              "      <td>3.58</td>\n",
              "      <td>0.359771</td>\n",
              "      <td>0.517137</td>\n",
              "      <td>0.554649</td>\n",
              "    </tr>\n",
              "    <tr>\n",
              "      <th>color_intensity</th>\n",
              "      <td>178.0</td>\n",
              "      <td>5.058090</td>\n",
              "      <td>2.318286</td>\n",
              "      <td>1.28</td>\n",
              "      <td>3.2200</td>\n",
              "      <td>4.690</td>\n",
              "      <td>6.2000</td>\n",
              "      <td>13.00</td>\n",
              "      <td>0.458332</td>\n",
              "      <td>0.868585</td>\n",
              "      <td>0.381522</td>\n",
              "    </tr>\n",
              "    <tr>\n",
              "      <th>hue</th>\n",
              "      <td>178.0</td>\n",
              "      <td>0.957449</td>\n",
              "      <td>0.228572</td>\n",
              "      <td>0.48</td>\n",
              "      <td>0.7825</td>\n",
              "      <td>0.965</td>\n",
              "      <td>1.1200</td>\n",
              "      <td>1.71</td>\n",
              "      <td>0.238730</td>\n",
              "      <td>0.021091</td>\n",
              "      <td>-0.344096</td>\n",
              "    </tr>\n",
              "    <tr>\n",
              "      <th>od280/od315_of_diluted_wines</th>\n",
              "      <td>178.0</td>\n",
              "      <td>2.611685</td>\n",
              "      <td>0.709990</td>\n",
              "      <td>1.27</td>\n",
              "      <td>1.9375</td>\n",
              "      <td>2.780</td>\n",
              "      <td>3.1700</td>\n",
              "      <td>4.00</td>\n",
              "      <td>0.271851</td>\n",
              "      <td>-0.307285</td>\n",
              "      <td>-1.086435</td>\n",
              "    </tr>\n",
              "    <tr>\n",
              "      <th>proline</th>\n",
              "      <td>178.0</td>\n",
              "      <td>746.893258</td>\n",
              "      <td>314.907474</td>\n",
              "      <td>278.00</td>\n",
              "      <td>500.5000</td>\n",
              "      <td>673.500</td>\n",
              "      <td>985.0000</td>\n",
              "      <td>1680.00</td>\n",
              "      <td>0.421623</td>\n",
              "      <td>0.767822</td>\n",
              "      <td>-0.248403</td>\n",
              "    </tr>\n",
              "    <tr>\n",
              "      <th>target</th>\n",
              "      <td>178.0</td>\n",
              "      <td>0.938202</td>\n",
              "      <td>0.775035</td>\n",
              "      <td>0.00</td>\n",
              "      <td>0.0000</td>\n",
              "      <td>1.000</td>\n",
              "      <td>2.0000</td>\n",
              "      <td>2.00</td>\n",
              "      <td>0.826085</td>\n",
              "      <td>0.107431</td>\n",
              "      <td>-1.322787</td>\n",
              "    </tr>\n",
              "  </tbody>\n",
              "</table>\n",
              "</div>\n",
              "    <div class=\"colab-df-buttons\">\n",
              "\n",
              "  <div class=\"colab-df-container\">\n",
              "    <button class=\"colab-df-convert\" onclick=\"convertToInteractive('df-f1dc3042-c20e-41d9-ba63-f5af160445d3')\"\n",
              "            title=\"Convert this dataframe to an interactive table.\"\n",
              "            style=\"display:none;\">\n",
              "\n",
              "  <svg xmlns=\"http://www.w3.org/2000/svg\" height=\"24px\" viewBox=\"0 -960 960 960\">\n",
              "    <path d=\"M120-120v-720h720v720H120Zm60-500h600v-160H180v160Zm220 220h160v-160H400v160Zm0 220h160v-160H400v160ZM180-400h160v-160H180v160Zm440 0h160v-160H620v160ZM180-180h160v-160H180v160Zm440 0h160v-160H620v160Z\"/>\n",
              "  </svg>\n",
              "    </button>\n",
              "\n",
              "  <style>\n",
              "    .colab-df-container {\n",
              "      display:flex;\n",
              "      gap: 12px;\n",
              "    }\n",
              "\n",
              "    .colab-df-convert {\n",
              "      background-color: #E8F0FE;\n",
              "      border: none;\n",
              "      border-radius: 50%;\n",
              "      cursor: pointer;\n",
              "      display: none;\n",
              "      fill: #1967D2;\n",
              "      height: 32px;\n",
              "      padding: 0 0 0 0;\n",
              "      width: 32px;\n",
              "    }\n",
              "\n",
              "    .colab-df-convert:hover {\n",
              "      background-color: #E2EBFA;\n",
              "      box-shadow: 0px 1px 2px rgba(60, 64, 67, 0.3), 0px 1px 3px 1px rgba(60, 64, 67, 0.15);\n",
              "      fill: #174EA6;\n",
              "    }\n",
              "\n",
              "    .colab-df-buttons div {\n",
              "      margin-bottom: 4px;\n",
              "    }\n",
              "\n",
              "    [theme=dark] .colab-df-convert {\n",
              "      background-color: #3B4455;\n",
              "      fill: #D2E3FC;\n",
              "    }\n",
              "\n",
              "    [theme=dark] .colab-df-convert:hover {\n",
              "      background-color: #434B5C;\n",
              "      box-shadow: 0px 1px 3px 1px rgba(0, 0, 0, 0.15);\n",
              "      filter: drop-shadow(0px 1px 2px rgba(0, 0, 0, 0.3));\n",
              "      fill: #FFFFFF;\n",
              "    }\n",
              "  </style>\n",
              "\n",
              "    <script>\n",
              "      const buttonEl =\n",
              "        document.querySelector('#df-f1dc3042-c20e-41d9-ba63-f5af160445d3 button.colab-df-convert');\n",
              "      buttonEl.style.display =\n",
              "        google.colab.kernel.accessAllowed ? 'block' : 'none';\n",
              "\n",
              "      async function convertToInteractive(key) {\n",
              "        const element = document.querySelector('#df-f1dc3042-c20e-41d9-ba63-f5af160445d3');\n",
              "        const dataTable =\n",
              "          await google.colab.kernel.invokeFunction('convertToInteractive',\n",
              "                                                    [key], {});\n",
              "        if (!dataTable) return;\n",
              "\n",
              "        const docLinkHtml = 'Like what you see? Visit the ' +\n",
              "          '<a target=\"_blank\" href=https://colab.research.google.com/notebooks/data_table.ipynb>data table notebook</a>'\n",
              "          + ' to learn more about interactive tables.';\n",
              "        element.innerHTML = '';\n",
              "        dataTable['output_type'] = 'display_data';\n",
              "        await google.colab.output.renderOutput(dataTable, element);\n",
              "        const docLink = document.createElement('div');\n",
              "        docLink.innerHTML = docLinkHtml;\n",
              "        element.appendChild(docLink);\n",
              "      }\n",
              "    </script>\n",
              "  </div>\n",
              "\n",
              "\n",
              "    <div id=\"df-2ab6c5eb-2325-4423-8367-0c97f00c3040\">\n",
              "      <button class=\"colab-df-quickchart\" onclick=\"quickchart('df-2ab6c5eb-2325-4423-8367-0c97f00c3040')\"\n",
              "                title=\"Suggest charts\"\n",
              "                style=\"display:none;\">\n",
              "\n",
              "<svg xmlns=\"http://www.w3.org/2000/svg\" height=\"24px\"viewBox=\"0 0 24 24\"\n",
              "     width=\"24px\">\n",
              "    <g>\n",
              "        <path d=\"M19 3H5c-1.1 0-2 .9-2 2v14c0 1.1.9 2 2 2h14c1.1 0 2-.9 2-2V5c0-1.1-.9-2-2-2zM9 17H7v-7h2v7zm4 0h-2V7h2v10zm4 0h-2v-4h2v4z\"/>\n",
              "    </g>\n",
              "</svg>\n",
              "      </button>\n",
              "\n",
              "<style>\n",
              "  .colab-df-quickchart {\n",
              "      --bg-color: #E8F0FE;\n",
              "      --fill-color: #1967D2;\n",
              "      --hover-bg-color: #E2EBFA;\n",
              "      --hover-fill-color: #174EA6;\n",
              "      --disabled-fill-color: #AAA;\n",
              "      --disabled-bg-color: #DDD;\n",
              "  }\n",
              "\n",
              "  [theme=dark] .colab-df-quickchart {\n",
              "      --bg-color: #3B4455;\n",
              "      --fill-color: #D2E3FC;\n",
              "      --hover-bg-color: #434B5C;\n",
              "      --hover-fill-color: #FFFFFF;\n",
              "      --disabled-bg-color: #3B4455;\n",
              "      --disabled-fill-color: #666;\n",
              "  }\n",
              "\n",
              "  .colab-df-quickchart {\n",
              "    background-color: var(--bg-color);\n",
              "    border: none;\n",
              "    border-radius: 50%;\n",
              "    cursor: pointer;\n",
              "    display: none;\n",
              "    fill: var(--fill-color);\n",
              "    height: 32px;\n",
              "    padding: 0;\n",
              "    width: 32px;\n",
              "  }\n",
              "\n",
              "  .colab-df-quickchart:hover {\n",
              "    background-color: var(--hover-bg-color);\n",
              "    box-shadow: 0 1px 2px rgba(60, 64, 67, 0.3), 0 1px 3px 1px rgba(60, 64, 67, 0.15);\n",
              "    fill: var(--button-hover-fill-color);\n",
              "  }\n",
              "\n",
              "  .colab-df-quickchart-complete:disabled,\n",
              "  .colab-df-quickchart-complete:disabled:hover {\n",
              "    background-color: var(--disabled-bg-color);\n",
              "    fill: var(--disabled-fill-color);\n",
              "    box-shadow: none;\n",
              "  }\n",
              "\n",
              "  .colab-df-spinner {\n",
              "    border: 2px solid var(--fill-color);\n",
              "    border-color: transparent;\n",
              "    border-bottom-color: var(--fill-color);\n",
              "    animation:\n",
              "      spin 1s steps(1) infinite;\n",
              "  }\n",
              "\n",
              "  @keyframes spin {\n",
              "    0% {\n",
              "      border-color: transparent;\n",
              "      border-bottom-color: var(--fill-color);\n",
              "      border-left-color: var(--fill-color);\n",
              "    }\n",
              "    20% {\n",
              "      border-color: transparent;\n",
              "      border-left-color: var(--fill-color);\n",
              "      border-top-color: var(--fill-color);\n",
              "    }\n",
              "    30% {\n",
              "      border-color: transparent;\n",
              "      border-left-color: var(--fill-color);\n",
              "      border-top-color: var(--fill-color);\n",
              "      border-right-color: var(--fill-color);\n",
              "    }\n",
              "    40% {\n",
              "      border-color: transparent;\n",
              "      border-right-color: var(--fill-color);\n",
              "      border-top-color: var(--fill-color);\n",
              "    }\n",
              "    60% {\n",
              "      border-color: transparent;\n",
              "      border-right-color: var(--fill-color);\n",
              "    }\n",
              "    80% {\n",
              "      border-color: transparent;\n",
              "      border-right-color: var(--fill-color);\n",
              "      border-bottom-color: var(--fill-color);\n",
              "    }\n",
              "    90% {\n",
              "      border-color: transparent;\n",
              "      border-bottom-color: var(--fill-color);\n",
              "    }\n",
              "  }\n",
              "</style>\n",
              "\n",
              "      <script>\n",
              "        async function quickchart(key) {\n",
              "          const quickchartButtonEl =\n",
              "            document.querySelector('#' + key + ' button');\n",
              "          quickchartButtonEl.disabled = true;  // To prevent multiple clicks.\n",
              "          quickchartButtonEl.classList.add('colab-df-spinner');\n",
              "          try {\n",
              "            const charts = await google.colab.kernel.invokeFunction(\n",
              "                'suggestCharts', [key], {});\n",
              "          } catch (error) {\n",
              "            console.error('Error during call to suggestCharts:', error);\n",
              "          }\n",
              "          quickchartButtonEl.classList.remove('colab-df-spinner');\n",
              "          quickchartButtonEl.classList.add('colab-df-quickchart-complete');\n",
              "        }\n",
              "        (() => {\n",
              "          let quickchartButtonEl =\n",
              "            document.querySelector('#df-2ab6c5eb-2325-4423-8367-0c97f00c3040 button');\n",
              "          quickchartButtonEl.style.display =\n",
              "            google.colab.kernel.accessAllowed ? 'block' : 'none';\n",
              "        })();\n",
              "      </script>\n",
              "    </div>\n",
              "\n",
              "  <div id=\"id_b2d3cd12-ed02-4f0d-b2c6-6f0210055628\">\n",
              "    <style>\n",
              "      .colab-df-generate {\n",
              "        background-color: #E8F0FE;\n",
              "        border: none;\n",
              "        border-radius: 50%;\n",
              "        cursor: pointer;\n",
              "        display: none;\n",
              "        fill: #1967D2;\n",
              "        height: 32px;\n",
              "        padding: 0 0 0 0;\n",
              "        width: 32px;\n",
              "      }\n",
              "\n",
              "      .colab-df-generate:hover {\n",
              "        background-color: #E2EBFA;\n",
              "        box-shadow: 0px 1px 2px rgba(60, 64, 67, 0.3), 0px 1px 3px 1px rgba(60, 64, 67, 0.15);\n",
              "        fill: #174EA6;\n",
              "      }\n",
              "\n",
              "      [theme=dark] .colab-df-generate {\n",
              "        background-color: #3B4455;\n",
              "        fill: #D2E3FC;\n",
              "      }\n",
              "\n",
              "      [theme=dark] .colab-df-generate:hover {\n",
              "        background-color: #434B5C;\n",
              "        box-shadow: 0px 1px 3px 1px rgba(0, 0, 0, 0.15);\n",
              "        filter: drop-shadow(0px 1px 2px rgba(0, 0, 0, 0.3));\n",
              "        fill: #FFFFFF;\n",
              "      }\n",
              "    </style>\n",
              "    <button class=\"colab-df-generate\" onclick=\"generateWithVariable('desc')\"\n",
              "            title=\"Generate code using this dataframe.\"\n",
              "            style=\"display:none;\">\n",
              "\n",
              "  <svg xmlns=\"http://www.w3.org/2000/svg\" height=\"24px\"viewBox=\"0 0 24 24\"\n",
              "       width=\"24px\">\n",
              "    <path d=\"M7,19H8.4L18.45,9,17,7.55,7,17.6ZM5,21V16.75L18.45,3.32a2,2,0,0,1,2.83,0l1.4,1.43a1.91,1.91,0,0,1,.58,1.4,1.91,1.91,0,0,1-.58,1.4L9.25,21ZM18.45,9,17,7.55Zm-12,3A5.31,5.31,0,0,0,4.9,8.1,5.31,5.31,0,0,0,1,6.5,5.31,5.31,0,0,0,4.9,4.9,5.31,5.31,0,0,0,6.5,1,5.31,5.31,0,0,0,8.1,4.9,5.31,5.31,0,0,0,12,6.5,5.46,5.46,0,0,0,6.5,12Z\"/>\n",
              "  </svg>\n",
              "    </button>\n",
              "    <script>\n",
              "      (() => {\n",
              "      const buttonEl =\n",
              "        document.querySelector('#id_b2d3cd12-ed02-4f0d-b2c6-6f0210055628 button.colab-df-generate');\n",
              "      buttonEl.style.display =\n",
              "        google.colab.kernel.accessAllowed ? 'block' : 'none';\n",
              "\n",
              "      buttonEl.onclick = () => {\n",
              "        google.colab.notebook.generateWithVariable('desc');\n",
              "      }\n",
              "      })();\n",
              "    </script>\n",
              "  </div>\n",
              "\n",
              "    </div>\n",
              "  </div>\n"
            ],
            "application/vnd.google.colaboratory.intrinsic+json": {
              "type": "dataframe",
              "variable_name": "desc",
              "summary": "{\n  \"name\": \"desc\",\n  \"rows\": 14,\n  \"fields\": [\n    {\n      \"column\": \"count\",\n      \"properties\": {\n        \"dtype\": \"number\",\n        \"std\": 0.0,\n        \"min\": 178.0,\n        \"max\": 178.0,\n        \"num_unique_values\": 1,\n        \"samples\": [\n          178.0\n        ],\n        \"semantic_type\": \"\",\n        \"description\": \"\"\n      }\n    },\n    {\n      \"column\": \"mean\",\n      \"properties\": {\n        \"dtype\": \"number\",\n        \"std\": 198.1818954854824,\n        \"min\": 0.3618539325842696,\n        \"max\": 746.8932584269663,\n        \"num_unique_values\": 14,\n        \"samples\": [\n          5.058089882022472\n        ],\n        \"semantic_type\": \"\",\n        \"description\": \"\"\n      }\n    },\n    {\n      \"column\": \"std\",\n      \"properties\": {\n        \"dtype\": \"number\",\n        \"std\": 83.7037441305944,\n        \"min\": 0.12445334029667939,\n        \"max\": 314.9074742768489,\n        \"num_unique_values\": 14,\n        \"samples\": [\n          2.318285871822413\n        ],\n        \"semantic_type\": \"\",\n        \"description\": \"\"\n      }\n    },\n    {\n      \"column\": \"min\",\n      \"properties\": {\n        \"dtype\": \"number\",\n        \"std\": 74.5723937224393,\n        \"min\": 0.0,\n        \"max\": 278.0,\n        \"num_unique_values\": 14,\n        \"samples\": [\n          1.28\n        ],\n        \"semantic_type\": \"\",\n        \"description\": \"\"\n      }\n    },\n    {\n      \"column\": \"25%\",\n      \"properties\": {\n        \"dtype\": \"number\",\n        \"std\": 133.06026243982956,\n        \"min\": 0.0,\n        \"max\": 500.5,\n        \"num_unique_values\": 14,\n        \"samples\": [\n          3.2199999999999998\n        ],\n        \"semantic_type\": \"\",\n        \"description\": \"\"\n      }\n    },\n    {\n      \"column\": \"50%\",\n      \"properties\": {\n        \"dtype\": \"number\",\n        \"std\": 178.73501544700372,\n        \"min\": 0.34,\n        \"max\": 673.5,\n        \"num_unique_values\": 14,\n        \"samples\": [\n          4.6899999999999995\n        ],\n        \"semantic_type\": \"\",\n        \"description\": \"\"\n      }\n    },\n    {\n      \"column\": \"75%\",\n      \"properties\": {\n        \"dtype\": \"number\",\n        \"std\": 261.26827792835536,\n        \"min\": 0.4375,\n        \"max\": 985.0,\n        \"num_unique_values\": 14,\n        \"samples\": [\n          6.2\n        ],\n        \"semantic_type\": \"\",\n        \"description\": \"\"\n      }\n    },\n    {\n      \"column\": \"max\",\n      \"properties\": {\n        \"dtype\": \"number\",\n        \"std\": 445.84001645061124,\n        \"min\": 0.66,\n        \"max\": 1680.0,\n        \"num_unique_values\": 14,\n        \"samples\": [\n          13.0\n        ],\n        \"semantic_type\": \"\",\n        \"description\": \"\"\n      }\n    },\n    {\n      \"column\": \"coef_var\",\n      \"properties\": {\n        \"dtype\": \"number\",\n        \"std\": 0.1985928482674876,\n        \"min\": 0.06244522678915119,\n        \"max\": 0.8260851989062279,\n        \"num_unique_values\": 14,\n        \"samples\": [\n          0.4583322807414108\n        ],\n        \"semantic_type\": \"\",\n        \"description\": \"\"\n      }\n    },\n    {\n      \"column\": \"skew\",\n      \"properties\": {\n        \"dtype\": \"number\",\n        \"std\": 0.4594238843129819,\n        \"min\": -0.30728549895848106,\n        \"max\": 1.098191054755161,\n        \"num_unique_values\": 14,\n        \"samples\": [\n          0.8685847909572548\n        ],\n        \"semantic_type\": \"\",\n        \"description\": \"\"\n      }\n    },\n    {\n      \"column\": \"kurtosis\",\n      \"properties\": {\n        \"dtype\": \"number\",\n        \"std\": 0.9658728449757232,\n        \"min\": -1.3227866741571241,\n        \"max\": 2.1049913235905557,\n        \"num_unique_values\": 14,\n        \"samples\": [\n          0.38152227277478135\n        ],\n        \"semantic_type\": \"\",\n        \"description\": \"\"\n      }\n    }\n  ]\n}"
            }
          },
          "metadata": {}
        }
      ]
    },
    {
      "cell_type": "markdown",
      "source": [
        "### 3.2 Estadística descriptiva, dispersión y forma de distribución  \n",
        "- **Coeficiente de variación (CV ≥ 0.30)**  \n",
        "  - Alta dispersión relativa en `flavanoids` (0.49), `malic_acid` (0.48), `color_intensity` (0.46) y `proline` (0.42).  \n",
        "  - Se sugirió escalar y, de ser necesario, transformar (log o Box‑Cox) dichas variables.  \n",
        "- **Asimetría significativa (|skew| > 1)**  \n",
        "  - Sesgo a la derecha observado en `magnesium` (1.10) y `malic_acid` (1.04).  \n",
        "  - Se recomendó evaluar transformaciones para aproximar la normalidad si se emplean métodos lineales.  \n",
        "- **Curtosis elevada (> 1)**  \n",
        "  - Colas ligeramente pesadas en `magnesium` (2.10) y, en menor grado, en `malic_acid` (0.30).  \n",
        "  - Se planteó revisar el impacto en técnicas paramétricas.  \n",
        "- **Baja dispersión (CV < 0.10)**  \n",
        "  - `alcohol` mostró la menor variabilidad (0.06), indicando estabilidad numérica tras estandarización.  \n",
        "- **Implicación principal**  \n",
        "  - Las variables con alta dispersión y asimetría se priorizaron para escalado y posibles transformaciones de potencia.  "
      ],
      "metadata": {
        "id": "Kw-8CGagum_C"
      }
    },
    {
      "cell_type": "code",
      "source": [
        "# 3.3 Detección de outliers (IQR)\n",
        "iqr   = desc['75%'] - desc['25%']\n",
        "lower = desc['25%'] - 1.5 * iqr\n",
        "upper = desc['75%'] + 1.5 * iqr\n",
        "outlier_counts = {\n",
        "    col: int(((df[col] < lower[col]) | (df[col] > upper[col])).sum())\n",
        "    for col in wine.feature_names\n",
        "}\n",
        "print(\"Outliers por variable (IQR):\")\n",
        "display(pd.Series(outlier_counts))"
      ],
      "metadata": {
        "colab": {
          "base_uri": "https://localhost:8080/",
          "height": 510
        },
        "id": "JXAf0SGGuVFz",
        "outputId": "93333c33-f8fb-4d61-d1cd-3e0561514181"
      },
      "execution_count": null,
      "outputs": [
        {
          "output_type": "stream",
          "name": "stdout",
          "text": [
            "Outliers por variable (IQR):\n"
          ]
        },
        {
          "output_type": "display_data",
          "data": {
            "text/plain": [
              "alcohol                         0\n",
              "malic_acid                      3\n",
              "ash                             3\n",
              "alcalinity_of_ash               4\n",
              "magnesium                       4\n",
              "total_phenols                   0\n",
              "flavanoids                      0\n",
              "nonflavanoid_phenols            0\n",
              "proanthocyanins                 2\n",
              "color_intensity                 4\n",
              "hue                             1\n",
              "od280/od315_of_diluted_wines    0\n",
              "proline                         0\n",
              "dtype: int64"
            ],
            "text/html": [
              "<div>\n",
              "<style scoped>\n",
              "    .dataframe tbody tr th:only-of-type {\n",
              "        vertical-align: middle;\n",
              "    }\n",
              "\n",
              "    .dataframe tbody tr th {\n",
              "        vertical-align: top;\n",
              "    }\n",
              "\n",
              "    .dataframe thead th {\n",
              "        text-align: right;\n",
              "    }\n",
              "</style>\n",
              "<table border=\"1\" class=\"dataframe\">\n",
              "  <thead>\n",
              "    <tr style=\"text-align: right;\">\n",
              "      <th></th>\n",
              "      <th>0</th>\n",
              "    </tr>\n",
              "  </thead>\n",
              "  <tbody>\n",
              "    <tr>\n",
              "      <th>alcohol</th>\n",
              "      <td>0</td>\n",
              "    </tr>\n",
              "    <tr>\n",
              "      <th>malic_acid</th>\n",
              "      <td>3</td>\n",
              "    </tr>\n",
              "    <tr>\n",
              "      <th>ash</th>\n",
              "      <td>3</td>\n",
              "    </tr>\n",
              "    <tr>\n",
              "      <th>alcalinity_of_ash</th>\n",
              "      <td>4</td>\n",
              "    </tr>\n",
              "    <tr>\n",
              "      <th>magnesium</th>\n",
              "      <td>4</td>\n",
              "    </tr>\n",
              "    <tr>\n",
              "      <th>total_phenols</th>\n",
              "      <td>0</td>\n",
              "    </tr>\n",
              "    <tr>\n",
              "      <th>flavanoids</th>\n",
              "      <td>0</td>\n",
              "    </tr>\n",
              "    <tr>\n",
              "      <th>nonflavanoid_phenols</th>\n",
              "      <td>0</td>\n",
              "    </tr>\n",
              "    <tr>\n",
              "      <th>proanthocyanins</th>\n",
              "      <td>2</td>\n",
              "    </tr>\n",
              "    <tr>\n",
              "      <th>color_intensity</th>\n",
              "      <td>4</td>\n",
              "    </tr>\n",
              "    <tr>\n",
              "      <th>hue</th>\n",
              "      <td>1</td>\n",
              "    </tr>\n",
              "    <tr>\n",
              "      <th>od280/od315_of_diluted_wines</th>\n",
              "      <td>0</td>\n",
              "    </tr>\n",
              "    <tr>\n",
              "      <th>proline</th>\n",
              "      <td>0</td>\n",
              "    </tr>\n",
              "  </tbody>\n",
              "</table>\n",
              "</div><br><label><b>dtype:</b> int64</label>"
            ]
          },
          "metadata": {}
        }
      ]
    },
    {
      "cell_type": "markdown",
      "source": [
        "### 3.3 Detección de valores atípicos (criterio IQR)  \n",
        "- **Variables con 4 outliers**  \n",
        "  - `alcalinity_of_ash`, `magnesium`, `color_intensity`.  \n",
        "  - Necesidad de inspección individual y posible winsorización.  \n",
        "- **Variables con 3 outliers**  \n",
        "  - `malic_acid`, `ash`.  \n",
        "  - Outliers moderados; se recomendó validar con métodos robustos.  \n",
        "- **Variables con 2 outliers**  \n",
        "  - `proanthocyanins`.  \n",
        "  - Riesgo limitado, pero se aconsejó revisión visual complementaria.  \n",
        "- **Variables con 1 outlier**  \n",
        "  - `hue`.  \n",
        "  - Impacto mínimo sobre la varianza global.  \n",
        "- **Variables sin outliers (bajo criterio IQR)**  \n",
        "  - `alcohol`, `total_phenols`, `flavanoids`, `nonflavanoid_phenols`, `od280/od315_of_diluted_wines`, `proline`.  \n",
        "- **Implicación general**  \n",
        "  - El nivel de atipicidad fue en su mayoría manejable; se sugirió un tratamiento focalizado en las variables con cuatro outliers para evitar distorsiones en modelos paramétricos.  \n"
      ],
      "metadata": {
        "id": "Cy4zzQEqutKz"
      }
    },
    {
      "cell_type": "markdown",
      "source": [
        "\n",
        "##**Recomendación integrada**  \n",
        "> - Aplicar **escalado z‑score** a todas las variables numéricas.  \n",
        "> - Evaluar **transformaciones logarítmicas** o Box‑Cox en las variables con alta dispersión y asimetría.  \n",
        "> - Tratar outliers (winsorización o métodos robustos) en `alcalinity_of_ash`, `magnesium` y `color_intensity`.  \n",
        "> - Emplear **validación cruzada estratificada** para preservar el ligero desbalance de clases durante el modelado.  "
      ],
      "metadata": {
        "id": "ktoXNEhau1B6"
      }
    },
    {
      "cell_type": "markdown",
      "source": [
        "# Sección 4 – Separación de Variables Explicativas (X) y Etiqueta (y)\n",
        "\n"
      ],
      "metadata": {
        "id": "DBY2YTiGvApV"
      }
    },
    {
      "cell_type": "code",
      "source": [
        "# 4.1 Extracción de X e y\n",
        "X = df.drop(columns=['target','target_name']).to_numpy()\n",
        "y = df['target'].to_numpy()\n",
        "\n"
      ],
      "metadata": {
        "id": "2YxRMxATvNIW"
      },
      "execution_count": null,
      "outputs": []
    },
    {
      "cell_type": "markdown",
      "source": [
        "### 4.1 Extracción de matrices  \n",
        "- **Matriz `X`**  \n",
        "  - Se creó eliminando las columnas `target` y `target_name` del *DataFrame* y convirtiendo el resultado a *NumPy array*.  \n",
        "  - Contiene exclusivamente las **13 variables fisicoquímicas** (predictoras).  \n",
        "- **Vector `y`**  \n",
        "  - Se extrajo la columna `target` en formato *NumPy* de dimensión unidimensional.  \n",
        "  - Representa la **clase numérica** asociada a cada registro.  "
      ],
      "metadata": {
        "id": "df0_Sxjvva26"
      }
    },
    {
      "cell_type": "code",
      "source": [
        "# 4.2 Verificación de dimensiones\n",
        "print(\"Forma de X:\", X.shape)\n",
        "print(\"Forma de y:\", y.shape)"
      ],
      "metadata": {
        "colab": {
          "base_uri": "https://localhost:8080/"
        },
        "id": "CmjOmx96ve2m",
        "outputId": "cb402e5f-8e17-44ea-92f0-2d5421c0c670"
      },
      "execution_count": null,
      "outputs": [
        {
          "output_type": "stream",
          "name": "stdout",
          "text": [
            "Forma de X: (178, 13)\n",
            "Forma de y: (178,)\n"
          ]
        }
      ]
    },
    {
      "cell_type": "markdown",
      "source": [
        "### 4.2 Verificación de dimensiones  \n",
        "- **Forma de `X`**: (178, 13)  \n",
        "  - 178 observaciones × 13 atributos predictivos.  \n",
        "- **Forma de `y`**: (178,)  \n",
        "  - 178 etiquetas correspondientes, sin discrepancias en el recuento de muestras.  "
      ],
      "metadata": {
        "id": "oGEOnA68vhiu"
      }
    },
    {
      "cell_type": "markdown",
      "source": [
        "> *Implicación:* la consistencia de dimensiones confirma que el conjunto de datos está listo para ser dividido en entrenamiento y prueba, así como para cualquier procedimiento de escalado o validación cruzada posterior.\n"
      ],
      "metadata": {
        "id": "SunTk82_vkJW"
      }
    },
    {
      "cell_type": "markdown",
      "source": [
        "# Sección 5 – Ejercicios de Manipulación con NumPy\n"
      ],
      "metadata": {
        "id": "TqJqWCoFvo8M"
      }
    },
    {
      "cell_type": "markdown",
      "source": [
        "Propósito: Practicar operaciones en arrays y generar artefactos intermedios.\n",
        "\n",
        "---\n",
        "\n"
      ],
      "metadata": {
        "id": "pwIWBi-4vscN"
      }
    },
    {
      "cell_type": "code",
      "source": [
        "# 5.1 Información general\n",
        "print(\"Dimensiones:\", X.ndim)\n",
        "print(\"Forma:\", X.shape)\n",
        "print(\"Total elementos:\", X.size)\n",
        "print(\"Bytes/elemento:\", X.itemsize, \"\\n\")"
      ],
      "metadata": {
        "colab": {
          "base_uri": "https://localhost:8080/"
        },
        "id": "v2gJMZtuwfen",
        "outputId": "307db0cd-0b4f-486a-f333-b74f9ff17162"
      },
      "execution_count": null,
      "outputs": [
        {
          "output_type": "stream",
          "name": "stdout",
          "text": [
            "Dimensiones: 2\n",
            "Forma: (178, 13)\n",
            "Total elementos: 2314\n",
            "Bytes/elemento: 8 \n",
            "\n"
          ]
        }
      ]
    },
    {
      "cell_type": "markdown",
      "source": [
        "### 5.1 Información general del arreglo `X`\n",
        "- **Dimensiones (`ndim`)**: 2 → matriz bidimensional.  \n",
        "- **Forma (`shape`)**: (178, 13) → 178 registros × 13 atributos.  \n",
        "- **Número total de elementos (`size`)**: 2 314.  \n",
        "- **Tamaño de cada elemento (`itemsize`)**: 8 bytes (tipo `float64`).  "
      ],
      "metadata": {
        "id": "1150np9Owiik"
      }
    },
    {
      "cell_type": "code",
      "source": [
        "# 5.2 Primeras/Últimas filas\n",
        "print(\"Primeras 3 muestras:\\n\", X[:3], \"\\n\")\n",
        "print(\"Últimas 3 muestras:\\n\", X[-3:], \"\\n\")"
      ],
      "metadata": {
        "colab": {
          "base_uri": "https://localhost:8080/"
        },
        "id": "wRZHD1cPwnMt",
        "outputId": "29904ed9-2b40-4ecb-a50d-740506c41c3f"
      },
      "execution_count": null,
      "outputs": [
        {
          "output_type": "stream",
          "name": "stdout",
          "text": [
            "Primeras 3 muestras:\n",
            " [[1.423e+01 1.710e+00 2.430e+00 1.560e+01 1.270e+02 2.800e+00 3.060e+00\n",
            "  2.800e-01 2.290e+00 5.640e+00 1.040e+00 3.920e+00 1.065e+03]\n",
            " [1.320e+01 1.780e+00 2.140e+00 1.120e+01 1.000e+02 2.650e+00 2.760e+00\n",
            "  2.600e-01 1.280e+00 4.380e+00 1.050e+00 3.400e+00 1.050e+03]\n",
            " [1.316e+01 2.360e+00 2.670e+00 1.860e+01 1.010e+02 2.800e+00 3.240e+00\n",
            "  3.000e-01 2.810e+00 5.680e+00 1.030e+00 3.170e+00 1.185e+03]] \n",
            "\n",
            "Últimas 3 muestras:\n",
            " [[1.327e+01 4.280e+00 2.260e+00 2.000e+01 1.200e+02 1.590e+00 6.900e-01\n",
            "  4.300e-01 1.350e+00 1.020e+01 5.900e-01 1.560e+00 8.350e+02]\n",
            " [1.317e+01 2.590e+00 2.370e+00 2.000e+01 1.200e+02 1.650e+00 6.800e-01\n",
            "  5.300e-01 1.460e+00 9.300e+00 6.000e-01 1.620e+00 8.400e+02]\n",
            " [1.413e+01 4.100e+00 2.740e+00 2.450e+01 9.600e+01 2.050e+00 7.600e-01\n",
            "  5.600e-01 1.350e+00 9.200e+00 6.100e-01 1.600e+00 5.600e+02]] \n",
            "\n"
          ]
        }
      ]
    },
    {
      "cell_type": "markdown",
      "source": [
        "### 5.2 Visualización de registros extremos\n",
        "- **Primeras 3 muestras**: permiten verificar la correcta carga de los valores originales.  \n",
        "- **Últimas 3 muestras**: confirman la integridad de índices y el orden del *DataFrame* tras la conversión.  \n"
      ],
      "metadata": {
        "id": "qF0MNkvgwqDO"
      }
    },
    {
      "cell_type": "code",
      "source": [
        "# 5.3 Indexación y slicing\n",
        "print(\"Muestra 0:\", X[0])\n",
        "print(\"Alcohol (10 primeras):\", X[:10,0])\n",
        "print(\"Subset 50×5:\", X[:50,:5].shape, \"\\n\")"
      ],
      "metadata": {
        "colab": {
          "base_uri": "https://localhost:8080/"
        },
        "id": "RVTVxSvPws-V",
        "outputId": "c36fc1bd-62c8-4d00-c385-4a6299a0a9b4"
      },
      "execution_count": null,
      "outputs": [
        {
          "output_type": "stream",
          "name": "stdout",
          "text": [
            "Muestra 0: [1.423e+01 1.710e+00 2.430e+00 1.560e+01 1.270e+02 2.800e+00 3.060e+00\n",
            " 2.800e-01 2.290e+00 5.640e+00 1.040e+00 3.920e+00 1.065e+03]\n",
            "Alcohol (10 primeras): [14.23 13.2  13.16 14.37 13.24 14.2  14.39 14.06 14.83 13.86]\n",
            "Subset 50×5: (50, 5) \n",
            "\n"
          ]
        }
      ]
    },
    {
      "cell_type": "markdown",
      "source": [
        "### 5.3 Indexación y *slicing*\n",
        "- **Muestra 0**: acceso a todos los atributos de la primera observación.  \n",
        "- **Columna `alcohol` (primeras 10 filas)**: demostración de *slicing* por filas y columnas.  \n",
        "- **Submatriz 50 × 5**: extracción de las 50 primeras filas y 5 primeras columnas → forma (50, 5).  \n",
        "\n"
      ],
      "metadata": {
        "id": "zsQt11iKwu12"
      }
    },
    {
      "cell_type": "code",
      "source": [
        "\n",
        "# 5.4 Estadísticas vectorizadas\n",
        "medias = np.mean(X, axis=0)\n",
        "stds   = np.std(X, axis=0)\n",
        "print(\"Media (5 primeras):\", medias[:5])\n",
        "print(\"Std   (5 primeras):\", stds[:5])\n",
        "print(\"Media por muestra (10 primeras):\", np.mean(X,axis=1)[:10], \"\\n\")"
      ],
      "metadata": {
        "colab": {
          "base_uri": "https://localhost:8080/"
        },
        "id": "pkiLjOH6wzVW",
        "outputId": "3869d238-5ab6-4042-e229-839c0b9ccfe7"
      },
      "execution_count": null,
      "outputs": [
        {
          "output_type": "stream",
          "name": "stdout",
          "text": [
            "Media (5 primeras): [13.00061798  2.33634831  2.36651685 19.49494382 99.74157303]\n",
            "Std   (5 primeras): [ 0.80954291  1.11400363  0.27357229  3.33016976 14.24230767]\n",
            "Media por muestra (10 primeras): [ 95.76923077  91.85384615 103.21692308 126.96076923  69.89923077\n",
            " 124.24846154 110.49692308 112.98307692  91.67846154  92.03538462] \n",
            "\n"
          ]
        }
      ]
    },
    {
      "cell_type": "markdown",
      "source": [
        "### 5.4 Estadísticas vectorizadas\n",
        "- **Media global** (cinco primeras variables):  \n",
        "  - `[13.00, 2.34, 2.37, 19.49, 99.74]`.  \n",
        "- **Desviación estándar correspondiente**:  \n",
        "  - `[0.81, 1.11, 0.27, 3.33, 14.24]`.  \n",
        "- **Media por muestra** (primeras 10 observaciones): valores promedios cercanos a 90–127 evidencian la disparidad de escalas.  \n"
      ],
      "metadata": {
        "id": "B9qzg-J1w2RG"
      }
    },
    {
      "cell_type": "code",
      "source": [
        "\n",
        "# 5.5 Filtrado y búsqueda\n",
        "mask = X[:,0] > 14\n",
        "print(\"Vinos con alcohol >14:\", mask.sum())\n",
        "print(\"Índices alcohol>14:\", np.where(mask)[0][:5])\n",
        "print(\"Máx alcohol:\", X[np.argmax(X[:,0]),0])\n",
        "print(\"Mín alcohol:\", X[np.argmin(X[:,0]),0], \"\\n\")"
      ],
      "metadata": {
        "colab": {
          "base_uri": "https://localhost:8080/"
        },
        "id": "F2wK_hAqw4HF",
        "outputId": "3887d6d6-f90b-49a2-bf42-5dbc24d071b0"
      },
      "execution_count": null,
      "outputs": [
        {
          "output_type": "stream",
          "name": "stdout",
          "text": [
            "Vinos con alcohol >14: 22\n",
            "Índices alcohol>14: [0 3 5 6 7]\n",
            "Máx alcohol: 14.83\n",
            "Mín alcohol: 11.03 \n",
            "\n"
          ]
        }
      ]
    },
    {
      "cell_type": "markdown",
      "source": [
        "### 5.5 Filtrado y búsqueda\n",
        "- **Vinos con `alcohol > 14`**: 22 registros.  \n",
        "- **Primeros índices con dicha condición**: `[0, 3, 5, 6, 7]`.  \n",
        "- **Valor máximo de alcohol**: 14.83 %.  \n",
        "- **Valor mínimo de alcohol**: 11.03 %.  "
      ],
      "metadata": {
        "id": "Mtqwch5jw6tu"
      }
    },
    {
      "cell_type": "code",
      "source": [
        "# 5.6 Reshape y flatten\n",
        "print(\"Flatten:\", X.flatten().shape)\n",
        "print(\"Reshape 178×?:\", X.reshape(178,-1).shape)\n",
        "print(\"Transpuesto:\", X.T.shape, \"\\n\")"
      ],
      "metadata": {
        "colab": {
          "base_uri": "https://localhost:8080/"
        },
        "id": "AgOYhdQJw9vO",
        "outputId": "6f06e8ec-49a6-4966-d86d-efa1e9a49f95"
      },
      "execution_count": null,
      "outputs": [
        {
          "output_type": "stream",
          "name": "stdout",
          "text": [
            "Flatten: (2314,)\n",
            "Reshape 178×?: (178, 13)\n",
            "Transpuesto: (13, 178) \n",
            "\n"
          ]
        }
      ]
    },
    {
      "cell_type": "markdown",
      "source": [
        "### 5.6 Transformaciones de forma\n",
        "- **Vector plano (`flatten`)**: forma (2 314,) → linealización completa.  \n",
        "- **Reestructuración `reshape(178, -1)`**: recuperación de la matriz original (178, 13).  \n",
        "- **Transposición (`X.T`)**: forma (13, 178) → facilita operaciones por variable.  \n"
      ],
      "metadata": {
        "id": "zOBtMLk-w_rh"
      }
    },
    {
      "cell_type": "code",
      "source": [
        "# 5.7 Concatenación y división\n",
        "X1, X2, X3 = X[:60], X[60:120], X[120:]\n",
        "print(\"Bloques:\", X1.shape, X2.shape, X3.shape)\n",
        "print(\"Reconstruido == original?\", np.array_equal(X, np.concatenate([X1,X2,X3],axis=0)), \"\\n\")\n"
      ],
      "metadata": {
        "colab": {
          "base_uri": "https://localhost:8080/"
        },
        "id": "S18k606UxBa_",
        "outputId": "3c62da6a-1516-43c7-b9d9-7dd50466782a"
      },
      "execution_count": null,
      "outputs": [
        {
          "output_type": "stream",
          "name": "stdout",
          "text": [
            "Bloques: (60, 13) (60, 13) (58, 13)\n",
            "Reconstruido == original? True \n",
            "\n"
          ]
        }
      ]
    },
    {
      "cell_type": "markdown",
      "source": [
        "### 5.7 Concatenación y división\n",
        "- **Bloques creados**:  \n",
        "  - `X1` → (60, 13)  \n",
        "  - `X2` → (60, 13)  \n",
        "  - `X3` → (58, 13)  \n",
        "- **Reconstrucción**: `np.concatenate([X1, X2, X3])` ≡ `X` → **verdadero**, se preservó el orden original.  \n"
      ],
      "metadata": {
        "id": "KRU7GUToxFyX"
      }
    },
    {
      "cell_type": "code",
      "source": [
        "# 5.8 Máscaras booleanas por clase\n",
        "for cls in [0,1,2]:\n",
        "    m = (y==cls)\n",
        "    print(f\"Clase {cls}: {m.sum()} muestras, media alcohol={X[m,0].mean():.2f}\")\n",
        "print()"
      ],
      "metadata": {
        "colab": {
          "base_uri": "https://localhost:8080/"
        },
        "id": "al_JHrRKxJep",
        "outputId": "7ca0cb2e-30a3-4eb0-9e6d-3fdd7e533ea7"
      },
      "execution_count": null,
      "outputs": [
        {
          "output_type": "stream",
          "name": "stdout",
          "text": [
            "Clase 0: 59 muestras, media alcohol=13.74\n",
            "Clase 1: 71 muestras, media alcohol=12.28\n",
            "Clase 2: 48 muestras, media alcohol=13.15\n",
            "\n"
          ]
        }
      ]
    },
    {
      "cell_type": "markdown",
      "source": [
        "### 5.8 Máscaras booleanas por clase\n",
        "- **Clase 0**: 59 muestras, media de alcohol = 13.74 %.  \n",
        "- **Clase 1**: 71 muestras, media de alcohol = 12.28 %.  \n",
        "- **Clase 2**: 48 muestras, media de alcohol = 13.15 %.  \n",
        "- *Implicación*: la variable `alcohol` podría ayudar a discriminar entre clases 0 y 1.  \n"
      ],
      "metadata": {
        "id": "2gRj2jeUxMEg"
      }
    },
    {
      "cell_type": "code",
      "source": [
        "# 5.9 Normalización Min‑Max\n",
        "X_norm = (X - X.min(0)) / (X.max(0) - X.min(0))\n",
        "print(\"Norm min/max:\", X_norm.min(), \"/\", X_norm.max(), \"\\n\")"
      ],
      "metadata": {
        "colab": {
          "base_uri": "https://localhost:8080/"
        },
        "id": "A0zJXT-FxQdV",
        "outputId": "aead7c69-ef26-40e3-cb8b-c482667b70cc"
      },
      "execution_count": null,
      "outputs": [
        {
          "output_type": "stream",
          "name": "stdout",
          "text": [
            "Norm min/max: 0.0 / 1.0 \n",
            "\n"
          ]
        }
      ]
    },
    {
      "cell_type": "markdown",
      "source": [
        "### 5.9 Normalización *Min‑Max*\n",
        "- **Rango obtenido**: `[0.0, 1.0]` para todos los atributos.  \n",
        "- *Implicación*: adecuado para algoritmos basados en distancias (p. ej., *k*-NN).  "
      ],
      "metadata": {
        "id": "-whrucY4xT3X"
      }
    },
    {
      "cell_type": "code",
      "source": [
        "\n",
        "\n",
        "# 5.10 Estandarización Z‑score\n",
        "X_std = (X - medias)/stds\n",
        "print(\"Std mean/std:\", X_std.mean().round(2), \"/\", X_std.std().round(2), \"\\n\")"
      ],
      "metadata": {
        "colab": {
          "base_uri": "https://localhost:8080/"
        },
        "id": "2831-5NmxTi_",
        "outputId": "af61fd36-a652-4571-f14a-ba3cfdb2ea17"
      },
      "execution_count": null,
      "outputs": [
        {
          "output_type": "stream",
          "name": "stdout",
          "text": [
            "Std mean/std: 0.0 / 1.0 \n",
            "\n"
          ]
        }
      ]
    },
    {
      "cell_type": "markdown",
      "source": [
        "### 5.10 Estandarización *Z‑score*\n",
        "- **Media global tras estandarizar**: 0.00.  \n",
        "- **Desviación estándar global**: 1.00.  \n",
        "- *Implicación*: idónea para modelos lineales y redes neuronales.  "
      ],
      "metadata": {
        "id": "B9_XLpxFxaKw"
      }
    },
    {
      "cell_type": "code",
      "source": [
        "# 5.11 Conversión a tensor (DL)\n",
        "import tensorflow as tf\n",
        "wine_tensor = tf.convert_to_tensor(X_norm, dtype=tf.float32)\n",
        "print(\"Tensor DL shape:\", wine_tensor.shape, \"\\n\")"
      ],
      "metadata": {
        "colab": {
          "base_uri": "https://localhost:8080/"
        },
        "id": "Lo6saOSExb-Q",
        "outputId": "6b6e68dc-37d5-4a40-a34d-0b41b5cebfa7"
      },
      "execution_count": null,
      "outputs": [
        {
          "output_type": "stream",
          "name": "stdout",
          "text": [
            "Tensor DL shape: (178, 13) \n",
            "\n"
          ]
        }
      ]
    },
    {
      "cell_type": "markdown",
      "source": [
        "### 5.11 Conversión a tensor para *Deep Learning*\n",
        "- **Forma del tensor**: (178, 13).  \n",
        "- **Tipo de dato**: `tf.float32`.  \n",
        "- *Implicación*: el arreglo está listo para ser usado como entrada en modelos de TensorFlow/Keras.  \n"
      ],
      "metadata": {
        "id": "VlS0Fwh8xfH3"
      }
    },
    {
      "cell_type": "code",
      "source": [
        "# 5.12 Exportación de resultados\n",
        "import os\n",
        "os.makedirs('data/exercises', exist_ok=True)\n",
        "\n",
        "# a) Estadísticas → CSV\n",
        "pd.DataFrame({'feature': wine.feature_names,\n",
        "              'mean': medias, 'std': stds})\\\n",
        "  .to_csv('data/exercises/feature_stats.csv', index=False)\n",
        "\n",
        "# b) Arrays procesados → NPZ\n",
        "np.savez('data/exercises/processed_arrays.npz',\n",
        "         X_raw=X, X_norm=X_norm, X_std=X_std, y=y)\n",
        "\n",
        "# c) Correlación → Parquet\n",
        "corr = np.corrcoef(X.T)\n",
        "pd.DataFrame(corr,\n",
        "             index=wine.feature_names,\n",
        "             columns=wine.feature_names)\\\n",
        "  .to_parquet('data/exercises/correlation_matrix.parquet')"
      ],
      "metadata": {
        "id": "4czHAUkhvwe3"
      },
      "execution_count": null,
      "outputs": []
    },
    {
      "cell_type": "markdown",
      "source": [
        "### 5.12 Exportación de artefactos\n",
        "- **`feature_stats.csv`**: medias y desviaciones estándar por atributo.  \n",
        "- **`processed_arrays.npz`**: contiene `X_raw`, `X_norm`, `X_std` y `y`.  \n",
        "- **`correlation_matrix.parquet`**: matriz de correlación 13 × 13 en formato optimizado para análisis posterior.  "
      ],
      "metadata": {
        "id": "fgxD9FS5xt5l"
      }
    },
    {
      "cell_type": "markdown",
      "source": [
        "# Sección 6 – Preparación de Artefactos\n"
      ],
      "metadata": {
        "id": "vBnlcGxGx7yq"
      }
    },
    {
      "cell_type": "markdown",
      "source": [
        "| Archivo                                     | Destino Notebook                |\n",
        "| ------------------------------------------- | ------------------------------- |\n",
        "| `data/wine_raw.parquet`                     | 02\\_Visualizacion\\_Datos        |\n",
        "| `data/wine_ml_ready.npz`                    | 03\\_Machine\\_Learning\\_Basico   |\n",
        "| `data/wine_tfdataset/`                      | 04\\_Deep\\_Learning\\_Intro       |\n",
        "| `data/exercises/feature_stats.csv`          | Estadísticas de ejercicios      |\n",
        "| `data/exercises/processed_arrays.npz`       | Arrays procesados de ejercicios |\n",
        "| `data/exercises/correlation_matrix.parquet` | Matriz de correlación           |\n"
      ],
      "metadata": {
        "id": "yvTN6gUlyFa1"
      }
    },
    {
      "cell_type": "code",
      "source": [
        "# 6.1 Guardar DataFrame original\n",
        "df.to_parquet('data/wine_raw.parquet', index=False)\n",
        "\n",
        "# 6.2 NPZ para ML clásico\n",
        "np.savez('data/wine_ml_ready.npz',\n",
        "         X_raw=X, X_norm=X_norm, X_std=X_std, y=y)\n",
        "\n",
        "# 6.3 tf.data.Dataset para DL\n",
        "tfdataset = tf.data.Dataset.from_tensor_slices((X_norm, y))\n",
        "tf.data.experimental.save(tfdataset, 'data/wine_tfdataset')\n"
      ],
      "metadata": {
        "colab": {
          "base_uri": "https://localhost:8080/"
        },
        "id": "vfwMtxi3yBA1",
        "outputId": "fbf661d6-018c-46df-f59c-9fe51f5ef67c"
      },
      "execution_count": null,
      "outputs": [
        {
          "output_type": "stream",
          "name": "stderr",
          "text": [
            "WARNING:tensorflow:From /tmp/ipython-input-42-1662897141.py:10: save (from tensorflow.python.data.experimental.ops.io) is deprecated and will be removed in a future version.\n",
            "Instructions for updating:\n",
            "Use `tf.data.Dataset.save(...)` instead.\n"
          ]
        }
      ]
    },
    {
      "cell_type": "markdown",
      "source": [
        "# Sección 7 – Conclusiones\n",
        "\n"
      ],
      "metadata": {
        "id": "t49U45xyyXAL"
      }
    },
    {
      "cell_type": "markdown",
      "source": [
        "1. **Validación e integridad del *dataset***  \n",
        "   - Se constató la ausencia total de valores faltantes en las **178 observaciones** y **15 columnas**, así como la correcta tipificación de los datos (13 `float64`, 1 `int64`, 1 categórica).  \n",
        "\n",
        "2. **Exploración estadística exhaustiva**  \n",
        "   - El análisis de dispersión (coeficiente de variación), asimetría (*skew*), curtosis y detección de atípicos (criterio IQR) brindó una caracterización detallada de cada variable, fundamentando futuras estrategias de escalado y tratamiento de outliers.  \n",
        "\n",
        "3. **Ejercicios de manipulación NumPy y generación de artefactos**  \n",
        "   - Se completaron **12 operaciones clave**—slicing, filtrado booleano, normalización *Min‑Max*, estandarización *Z‑score*, *reshape*, concatenación y conversión a tensor—consolidando competencias en manejo de arrays.  \n",
        "   - Se exportaron artefactos reproducibles:  \n",
        "     - `feature_stats.csv` (estadísticas descriptivas),  \n",
        "     - `processed_arrays.npz` (matrices crudas y transformadas) y  \n",
        "     - `correlation_matrix.parquet` (matriz de correlación 13 × 13).  \n",
        "\n",
        "4. **Preparación para etapas posteriores**  \n",
        "   - Los conjuntos `X_norm`, `X_std` y el tensor `wine_tensor` constituyen insumos listos para **visualización exploratoria**, **modelos de aprendizaje automático clásico** y **redes neuronales profundas**, respectivamente, garantizando continuidad metodológica en los notebooks sucesivos.  "
      ],
      "metadata": {
        "id": "Gl9hFK0zygOx"
      }
    }
  ]
}